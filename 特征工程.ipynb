{
 "metadata": {
  "language_info": {
   "codemirror_mode": {
    "name": "ipython",
    "version": 3
   },
   "file_extension": ".py",
   "mimetype": "text/x-python",
   "name": "python",
   "nbconvert_exporter": "python",
   "pygments_lexer": "ipython3",
   "version": 3
  },
  "orig_nbformat": 2
 },
 "nbformat": 4,
 "nbformat_minor": 2,
 "cells": [
  {
   "source": [
    "## 特征工程主要目的\n",
    "\n",
    "- 特征预处理、缺失值、异常值处理、数据分桶等特征处理方法\n",
    "- 特征交互、编码、选择的相应方法\n",
    "\n",
    "### 数据预处理\n",
    "- 缺失值的填充\n",
    "- 时间格式处理\n",
    "- 对象类型特征转换到数值\n",
    "\n",
    "### 异常值处理\n",
    "- 基于3segame原则\n",
    "- 基于箱型图\n",
    "\n",
    "### 数据分箱\n",
    "- 固定宽度分箱\n",
    "- 分位数分箱\n",
    "    - 离散数值型数据分箱\n",
    "    - 连续数值型数据分箱\n",
    "- 卡分分箱\n",
    "\n",
    "### 特征交互\n",
    "- 特征和特征之间组合\n",
    "- 特征和特征之间衍生\n",
    "- 其他特征衍生的尝试\n",
    "\n",
    "### 特征编码\n",
    "- one-hot编码\n",
    "- label-encode编码\n",
    "\n",
    "### 特征选择\n",
    "- 1 Filter\n",
    "- 2 Wrapper\n",
    "- 3 Embedded"
   ],
   "cell_type": "markdown",
   "metadata": {}
  },
  {
   "cell_type": "code",
   "execution_count": null,
   "metadata": {},
   "outputs": [],
   "source": [
    "\n"
   ]
  }
 ]
}