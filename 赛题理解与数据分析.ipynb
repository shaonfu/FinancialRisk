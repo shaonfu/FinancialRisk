{
 "metadata": {
  "language_info": {
   "codemirror_mode": {
    "name": "ipython",
    "version": 3
   },
   "file_extension": ".py",
   "mimetype": "text/x-python",
   "name": "python",
   "nbconvert_exporter": "python",
   "pygments_lexer": "ipython3",
   "version": 3
  },
  "orig_nbformat": 2
 },
 "nbformat": 4,
 "nbformat_minor": 2,
 "cells": [
  {
   "source": [
    "# 天池金融风控入门赛\n",
    "\n",
    "https://tianchi.aliyun.com/competition/entrance/531830/introduction\n"
   ],
   "cell_type": "markdown",
   "metadata": {}
  }
 ]
}